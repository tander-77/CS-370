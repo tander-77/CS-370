{
 "cells": [
  {
   "cell_type": "markdown",
   "metadata": {},
   "source": [
    "# Treasure Hunt Game Notebook\n",
    "\n",
    "## Read and Review Your Starter Code\n",
    "The theme of this project is a popular treasure hunt game in which the player needs to find the treasure before the pirate does. While you will not be developing the entire game, you will write the part of the game that represents the intelligent agent, which is a pirate in this case. The pirate will try to find the optimal path to the treasure using deep Q-learning. \n",
    "\n",
    "You have been provided with two Python classes and this notebook to help you with this assignment. The first class, TreasureMaze.py, represents the environment, which includes a maze object defined as a matrix. The second class, GameExperience.py, stores the episodes – that is, all the states that come in between the initial state and the terminal state. This is later used by the agent for learning by experience, called \"exploration\". This notebook shows how to play a game. Your task is to complete the deep Q-learning implementation for which a skeleton implementation has been provided. The code blocks you will need to complete has #TODO as a header.\n",
    "\n",
    "First, read and review the next few code and instruction blocks to understand the code that you have been given."
   ]
  },
  {
   "cell_type": "code",
   "execution_count": 1,
   "metadata": {},
   "outputs": [
    {
     "name": "stderr",
     "output_type": "stream",
     "text": [
      "Using TensorFlow backend.\n"
     ]
    }
   ],
   "source": [
    "from __future__ import print_function\n",
    "import os, sys, time, datetime, json, random\n",
    "import numpy as np\n",
    "from keras.models import Sequential\n",
    "from keras.layers.core import Dense, Activation\n",
    "from keras.optimizers import SGD , Adam, RMSprop\n",
    "from keras.layers.advanced_activations import PReLU\n",
    "import matplotlib.pyplot as plt\n",
    "from TreasureMaze import TreasureMaze\n",
    "from GameExperience import GameExperience\n",
    "%matplotlib inline"
   ]
  },
  {
   "cell_type": "markdown",
   "metadata": {},
   "source": [
    "The following code block contains an 8x8 matrix that will be used as a maze object:"
   ]
  },
  {
   "cell_type": "code",
   "execution_count": 2,
   "metadata": {},
   "outputs": [],
   "source": [
    "maze = np.array([\n",
    "    [ 1.,  0.,  1.,  1.,  1.,  1.,  1.,  1.],\n",
    "    [ 1.,  0.,  1.,  1.,  1.,  0.,  1.,  1.],\n",
    "    [ 1.,  1.,  1.,  1.,  0.,  1.,  0.,  1.],\n",
    "    [ 1.,  1.,  1.,  0.,  1.,  1.,  1.,  1.],\n",
    "    [ 1.,  1.,  0.,  1.,  1.,  1.,  1.,  1.],\n",
    "    [ 1.,  1.,  1.,  0.,  1.,  0.,  0.,  0.],\n",
    "    [ 1.,  1.,  1.,  0.,  1.,  1.,  1.,  1.],\n",
    "    [ 1.,  1.,  1.,  1.,  0.,  1.,  1.,  1.]\n",
    "])"
   ]
  },
  {
   "cell_type": "markdown",
   "metadata": {},
   "source": [
    "This helper function allows a visual representation of the maze object:"
   ]
  },
  {
   "cell_type": "code",
   "execution_count": 3,
   "metadata": {},
   "outputs": [],
   "source": [
    "def show(qmaze):\n",
    "    plt.grid('on')\n",
    "    nrows, ncols = qmaze.maze.shape\n",
    "    ax = plt.gca()\n",
    "    ax.set_xticks(np.arange(0.5, nrows, 1))\n",
    "    ax.set_yticks(np.arange(0.5, ncols, 1))\n",
    "    ax.set_xticklabels([])\n",
    "    ax.set_yticklabels([])\n",
    "    canvas = np.copy(qmaze.maze)\n",
    "    for row,col in qmaze.visited:\n",
    "        canvas[row,col] = 0.6\n",
    "    pirate_row, pirate_col, _ = qmaze.state\n",
    "    canvas[pirate_row, pirate_col] = 0.3   # pirate cell\n",
    "    canvas[nrows-1, ncols-1] = 0.9 # treasure cell\n",
    "    img = plt.imshow(canvas, interpolation='none', cmap='gray')\n",
    "    return img"
   ]
  },
  {
   "cell_type": "markdown",
   "metadata": {},
   "source": [
    "The pirate agent can move in four directions: left, right, up, and down. \n",
    "\n",
    "While the agent primarily learns by experience through exploitation, often, the agent can choose to explore the environment to find previously undiscovered paths. This is called \"exploration\" and is defined by epsilon. This value is typically a lower value such as 0.1, which means for every ten attempts, the agent will attempt to learn by experience nine times and will randomly explore a new path one time. You are encouraged to try various values for the exploration factor and see how the algorithm performs."
   ]
  },
  {
   "cell_type": "code",
   "execution_count": 4,
   "metadata": {},
   "outputs": [],
   "source": [
    "LEFT = 0\n",
    "UP = 1\n",
    "RIGHT = 2\n",
    "DOWN = 3\n",
    "\n",
    "\n",
    "# Exploration factor\n",
    "epsilon = 0.1\n",
    "\n",
    "# Actions dictionary\n",
    "actions_dict = {\n",
    "    LEFT: 'left',\n",
    "    UP: 'up',\n",
    "    RIGHT: 'right',\n",
    "    DOWN: 'down',\n",
    "}\n",
    "\n",
    "num_actions = len(actions_dict)\n"
   ]
  },
  {
   "cell_type": "markdown",
   "metadata": {},
   "source": [
    "The sample code block and output below show creating a maze object and performing one action (DOWN), which returns the reward. The resulting updated environment is visualized."
   ]
  },
  {
   "cell_type": "code",
   "execution_count": 5,
   "metadata": {},
   "outputs": [
    {
     "name": "stdout",
     "output_type": "stream",
     "text": [
      "reward= -0.04\n"
     ]
    },
    {
     "data": {
      "text/plain": [
       "<matplotlib.image.AxesImage at 0x20aa7960808>"
      ]
     },
     "execution_count": 5,
     "metadata": {},
     "output_type": "execute_result"
    },
    {
     "data": {
      "image/png": "[encoded data removed]",
      "text/plain": [
       "<Figure size 432x288 with 1 Axes>"
      ]
     },
     "metadata": {
      "needs_background": "light"
     },
     "output_type": "display_data"
    }
   ],
   "source": [
    "qmaze = TreasureMaze(maze)\n",
    "canvas, reward, game_over = qmaze.act(DOWN)\n",
    "print(\"reward=\", reward)\n",
    "show(qmaze)"
   ]
  },
  {
   "cell_type": "markdown",
   "metadata": {},
   "source": [
    "This function simulates a full game based on the provided trained model. The other parameters include the TreasureMaze object and the starting position of the pirate."
   ]
  },
  {
   "cell_type": "code",
   "execution_count": 6,
   "metadata": {},
   "outputs": [],
   "source": [
    "def play_game(model, qmaze, pirate_cell):\n",
    "    qmaze.reset(pirate_cell)\n",
    "    envstate = qmaze.observe()\n",
    "    while True:\n",
    "        prev_envstate = envstate\n",
    "        # get next action\n",
    "        q = model.predict(prev_envstate)\n",
    "        action = np.argmax(q[0])\n",
    "\n",
    "        # apply action, get rewards and new state\n",
    "        envstate, reward, game_status = qmaze.act(action)\n",
    "        if game_status == 'win':\n",
    "            return True\n",
    "        elif game_status == 'lose':\n",
    "            return False"
   ]
  },
  {
   "cell_type": "markdown",
   "metadata": {},
   "source": [
    "This function helps you to determine whether the pirate can win any game at all. If your maze is not well designed, the pirate may not win any game at all. In this case, your training would not yield any result. The provided maze in this notebook ensures that there is a path to win and you can run this method to check."
   ]
  },
  {
   "cell_type": "code",
   "execution_count": 7,
   "metadata": {},
   "outputs": [],
   "source": [
    "def completion_check(model, qmaze):\n",
    "    for cell in qmaze.free_cells:\n",
    "        if not qmaze.valid_actions(cell):\n",
    "            return False\n",
    "        if not play_game(model, qmaze, cell):\n",
    "            return False\n",
    "    return True"
   ]
  },
  {
   "cell_type": "markdown",
   "metadata": {},
   "source": [
    "The code you have been given in this block will build the neural network model. Review the code and note the number of layers, as well as the activation, optimizer, and loss functions that are used to train the model."
   ]
  },
  {
   "cell_type": "code",
   "execution_count": 8,
   "metadata": {},
   "outputs": [],
   "source": [
    "def build_model(maze):\n",
    "    model = Sequential()\n",
    "    model.add(Dense(maze.size, input_shape=(maze.size,)))\n",
    "    model.add(PReLU())\n",
    "    model.add(Dense(maze.size))\n",
    "    model.add(PReLU())\n",
    "    model.add(Dense(num_actions))\n",
    "    model.compile(optimizer='adam', loss='mse')\n",
    "    return model"
   ]
  },
  {
   "cell_type": "markdown",
   "metadata": {},
   "source": [
    "# #TODO: Complete the Q-Training Algorithm Code Block\n",
    "\n",
    "This is your deep Q-learning implementation. The goal of your deep Q-learning implementation is to find the best possible navigation sequence that results in reaching the treasure cell while maximizing the reward. In your implementation, you need to determine the optimal number of epochs to achieve a 100% win rate.\n",
    "\n",
    "You will need to complete the section starting with #pseudocode. The pseudocode has been included for you."
   ]
  },
  {
   "cell_type": "code",
   "execution_count": 9,
   "metadata": {
    "scrolled": true
   },
   "outputs": [],
   "source": [
    "# Small utility for printing readable time strings \n",
    "def format_time(seconds):\n",
    "    if seconds < 400:\n",
    "        return \"%.1f seconds\" % float(seconds)\n",
    "    elif seconds < 4000:\n",
    "        return \"%.2f minutes\" % (seconds / 60.0)\n",
    "    else:\n",
    "        return \"%.2f hours\" % (seconds / 3600.0)\n",
    "        \n",
    "# Set initial exploration rate\n",
    "epsilon = 0.10      # fairly exploratory\n",
    "\n",
    "def qtrain(model, maze, **opt):\n",
    "    # --- Hyperparameters / options (with sensible defaults) ---\n",
    "    global epsilon # exploration rate is managed outside and adjusted here\n",
    "    n_epoch         = opt.get('n_epoch', 15000)          # total epochs to try\n",
    "    max_memory      = opt.get('max_memory', 1000)        # replay buffer capacity\n",
    "    data_size       = opt.get('data_size', 50)           # minibatch size for training\n",
    "    train_every     = opt.get('train_every', 5)          # only train every N environment steps \n",
    "    epsilon_floor   = opt.get('epsilon_floor', 0.05)     # min exploration once policy is strong\n",
    "    \n",
    "    # --- Setup environment and replay memory ---\n",
    "    start_time = datetime.datetime.now()\n",
    "    qmaze      = TreasureMaze(maze)                      # environment wrapper\n",
    "    experience = GameExperience(model, max_memory=max_memory)  # replay buffer \n",
    "    \n",
    "    win_history = []                    # rolling list of winds (1) / losses (0)\n",
    "    hsize       = qmaze.maze.size // 2  # window size for \"recent performance\" check\n",
    "    win_rate    = 0.0\n",
    "    \n",
    "    # --- Main training loop over epochs ---\n",
    "    for epoch in range(n_epoch):\n",
    "        # 1) Choose a random valid start cell and reset the environment\n",
    "        agent_cell = random.choice(qmaze.free_cells)\n",
    "        qmaze.reset(agent_cell)\n",
    "        \n",
    "        # 2) Observe initial (flattened) state\n",
    "        envstate     = qmaze.observe()\n",
    "        loss         = 0.0\n",
    "        game_over    = False\n",
    "        n_steps      = 0 # number of env steps in this epoch\n",
    "        \n",
    "        # --- Episode rollout until terminal ---\n",
    "        while not game_over:\n",
    "            # 3) Determine valid actions from current state (0=LEFT, 1=UP, 2=RIGHT, 3=DOWN)\n",
    "            valid_actions = qmaze.valid_actions()\n",
    "            if not valid_actions:\n",
    "                # no valid moves from this state; end the episode defensively\n",
    "                break\n",
    "                \n",
    "            prev_envstate = envstate\n",
    "            \n",
    "            # 4) Epsilon-greedy action selection\n",
    "            if np.random.rand() < epsilon:\n",
    "                # exploration: random valid action\n",
    "                action = random.choice(valid_actions)\n",
    "            else:\n",
    "                # exploitation: predict q-values, then mask invalid actions to -inf\n",
    "                q_pred = model.predict(prev_envstate)\n",
    "                q_pred[0][[a for a in range(num_actions) if a not in valid_actions]] = -np.inf\n",
    "                action = np.argmax(q_pred[0])\n",
    "                \n",
    "            # 5) Take the action in the environment\n",
    "            envstate, reward, game_status = qmaze.act(action)\n",
    "            n_steps += 1\n",
    "            \n",
    "            # 6) Store transition in replay memory\n",
    "            transition = [prev_envstate, action, reward, envstate, game_status]\n",
    "            experience.remember(transition)\n",
    "            \n",
    "            # 7) Train only periodically AND only when replay memory is warm\n",
    "            if (n_steps % train_every == 0) and (len(experience.memory) >= data_size):\n",
    "                inputs, targets = experience.get_data(data_size=data_size)\n",
    "                loss += model.train_on_batch(inputs, targets)\n",
    "                \n",
    "            # 8) Check for terminal state\n",
    "            if game_status in ('win', 'lose'):\n",
    "                game_over = True\n",
    "                \n",
    "            # 9) If the episode ended off the training boundary, do one last train step\n",
    "            if (len(experience.memory) >= data_size) and (n_steps % train_every != 0):\n",
    "                inputs, targets = experience.get_data(data_size=data_size)\n",
    "                loss += model.train_on_batch(inputs, targets)\n",
    "                \n",
    "            # 10) Update win history & compute rolling win rate\n",
    "            win_history.append(1 if game_status == 'win' else 0)\n",
    "            if len(win_history) > hsize:\n",
    "                del win_history[0]\n",
    "            win_rate = sum(win_history) / len(win_history)\n",
    "            \n",
    "            # 11) Progress logging for this epoch\n",
    "            dt = datetime.datetime.now() - start_time\n",
    "            t = format_time(dt.total_seconds())\n",
    "            template = (\n",
    "                \"Epoch: {:04d}/{:d} | Loss: {:.4f} | Steps: {:d} | Wins: {:d} | \"\n",
    "                \"Win Rate: {:.3f} | Time: {}\"\n",
    "            )\n",
    "            print(template.format(epoch, n_epoch - 1, loss, n_steps, sum(win_history), win_rate, t))\n",
    "            \n",
    "            # 12) Reduce exploration once performance is strong (gentle schedule)\n",
    "            if win_rate > 0.90 and epsilon > epsilon_floor:\n",
    "                epsilon = max(epsilon_floor, epsilon * 0.90)\n",
    "                \n",
    "            # 13) Early stop when recent window is perfect AND the completion check passes\n",
    "            if (len(win_history) == hsize) and (sum(win_history) == hsize) and completion_check(model, qmaze):\n",
    "                print(\"Reached 100% win rate at epoch:\", epoch)\n",
    "                break\n",
    "                \n",
    "        # -- Final training summary (outsided the epoch loop) ---\n",
    "        dt = datetime.datetime.now() - start_time\n",
    "        seconds = dt.total_seconds()\n",
    "        print(\"n_epoch: %d, max_mem: %d, data: %d, time: %s\" %\n",
    "             (epoch, max_memory, data_size, format_time(seconds)))\n",
    "        return seconds"
   ]
  },
  {
   "cell_type": "markdown",
   "metadata": {},
   "source": [
    "## Test Your Model\n",
    "\n",
    "Now we will start testing the deep Q-learning implementation. To begin, select **Cell**, then **Run All** from the menu bar. This will run your notebook. As it runs, you should see output begin to appear beneath the next few cells. The code below creates an instance of TreasureMaze."
   ]
  },
  {
   "cell_type": "code",
   "execution_count": 10,
   "metadata": {},
   "outputs": [
    {
     "data": {
      "text/plain": [
       "<matplotlib.image.AxesImage at 0x20aa7a26688>"
      ]
     },
     "execution_count": 10,
     "metadata": {},
     "output_type": "execute_result"
    },
    {
     "data": {
      "image/png": "[encoded data removed]",
      "text/plain": [
       "<Figure size 432x288 with 1 Axes>"
      ]
     },
     "metadata": {
      "needs_background": "light"
     },
     "output_type": "display_data"
    }
   ],
   "source": [
    "qmaze = TreasureMaze(maze)\n",
    "show(qmaze)"
   ]
  },
  {
   "cell_type": "markdown",
   "metadata": {},
   "source": [
    "In the next code block, you will build your model and train it using deep Q-learning. Note: This step takes several minutes to fully run."
   ]
  },
  {
   "cell_type": "code",
   "execution_count": 11,
   "metadata": {},
   "outputs": [
    {
     "name": "stdout",
     "output_type": "stream",
     "text": [
      "Epoch: 0000/14999 | Loss: 0.0000 | Steps: 1 | Wins: 0 | Win Rate: 0.000 | Time: 0.1 seconds\n",
      "Epoch: 0000/14999 | Loss: 0.0000 | Steps: 2 | Wins: 0 | Win Rate: 0.000 | Time: 0.1 seconds\n",
      "Epoch: 0000/14999 | Loss: 0.0000 | Steps: 3 | Wins: 0 | Win Rate: 0.000 | Time: 0.1 seconds\n",
      "Epoch: 0000/14999 | Loss: 0.0000 | Steps: 4 | Wins: 0 | Win Rate: 0.000 | Time: 0.1 seconds\n",
      "Epoch: 0000/14999 | Loss: 0.0000 | Steps: 5 | Wins: 0 | Win Rate: 0.000 | Time: 0.1 seconds\n",
      "Epoch: 0000/14999 | Loss: 0.0000 | Steps: 6 | Wins: 0 | Win Rate: 0.000 | Time: 0.1 seconds\n",
      "Epoch: 0000/14999 | Loss: 0.0000 | Steps: 7 | Wins: 0 | Win Rate: 0.000 | Time: 0.1 seconds\n",
      "Epoch: 0000/14999 | Loss: 0.0000 | Steps: 8 | Wins: 0 | Win Rate: 0.000 | Time: 0.1 seconds\n",
      "Epoch: 0000/14999 | Loss: 0.0000 | Steps: 9 | Wins: 0 | Win Rate: 0.000 | Time: 0.1 seconds\n",
      "Epoch: 0000/14999 | Loss: 0.0000 | Steps: 10 | Wins: 0 | Win Rate: 0.000 | Time: 0.1 seconds\n",
      "Epoch: 0000/14999 | Loss: 0.0000 | Steps: 11 | Wins: 0 | Win Rate: 0.000 | Time: 0.1 seconds\n",
      "Epoch: 0000/14999 | Loss: 0.0000 | Steps: 12 | Wins: 0 | Win Rate: 0.000 | Time: 0.2 seconds\n",
      "Epoch: 0000/14999 | Loss: 0.0000 | Steps: 13 | Wins: 0 | Win Rate: 0.000 | Time: 0.2 seconds\n",
      "Epoch: 0000/14999 | Loss: 0.0000 | Steps: 14 | Wins: 0 | Win Rate: 0.000 | Time: 0.2 seconds\n",
      "Epoch: 0000/14999 | Loss: 0.0000 | Steps: 15 | Wins: 0 | Win Rate: 0.000 | Time: 0.2 seconds\n",
      "Epoch: 0000/14999 | Loss: 0.0000 | Steps: 16 | Wins: 0 | Win Rate: 0.000 | Time: 0.2 seconds\n",
      "Epoch: 0000/14999 | Loss: 0.0000 | Steps: 17 | Wins: 0 | Win Rate: 0.000 | Time: 0.2 seconds\n",
      "Epoch: 0000/14999 | Loss: 0.0000 | Steps: 18 | Wins: 0 | Win Rate: 0.000 | Time: 0.2 seconds\n",
      "Epoch: 0000/14999 | Loss: 0.0000 | Steps: 19 | Wins: 0 | Win Rate: 0.000 | Time: 0.2 seconds\n",
      "Epoch: 0000/14999 | Loss: 0.0000 | Steps: 20 | Wins: 0 | Win Rate: 0.000 | Time: 0.2 seconds\n",
      "Epoch: 0000/14999 | Loss: 0.0000 | Steps: 21 | Wins: 0 | Win Rate: 0.000 | Time: 0.2 seconds\n",
      "Epoch: 0000/14999 | Loss: 0.0000 | Steps: 22 | Wins: 0 | Win Rate: 0.000 | Time: 0.2 seconds\n",
      "Epoch: 0000/14999 | Loss: 0.0000 | Steps: 23 | Wins: 0 | Win Rate: 0.000 | Time: 0.2 seconds\n",
      "Epoch: 0000/14999 | Loss: 0.0000 | Steps: 24 | Wins: 0 | Win Rate: 0.000 | Time: 0.2 seconds\n",
      "Epoch: 0000/14999 | Loss: 0.0000 | Steps: 25 | Wins: 0 | Win Rate: 0.000 | Time: 0.2 seconds\n",
      "Epoch: 0000/14999 | Loss: 0.0000 | Steps: 26 | Wins: 0 | Win Rate: 0.000 | Time: 0.2 seconds\n",
      "Epoch: 0000/14999 | Loss: 0.0000 | Steps: 27 | Wins: 0 | Win Rate: 0.000 | Time: 0.2 seconds\n",
      "Epoch: 0000/14999 | Loss: 0.0000 | Steps: 28 | Wins: 0 | Win Rate: 0.000 | Time: 0.2 seconds\n",
      "Epoch: 0000/14999 | Loss: 0.0000 | Steps: 29 | Wins: 0 | Win Rate: 0.000 | Time: 0.2 seconds\n",
      "Epoch: 0000/14999 | Loss: 0.0000 | Steps: 30 | Wins: 0 | Win Rate: 0.000 | Time: 0.2 seconds\n",
      "Epoch: 0000/14999 | Loss: 0.0000 | Steps: 31 | Wins: 0 | Win Rate: 0.000 | Time: 0.2 seconds\n",
      "Epoch: 0000/14999 | Loss: 0.0655 | Steps: 32 | Wins: 0 | Win Rate: 0.000 | Time: 2.5 seconds\n",
      "Epoch: 0000/14999 | Loss: 0.0949 | Steps: 33 | Wins: 0 | Win Rate: 0.000 | Time: 2.6 seconds\n",
      "Epoch: 0000/14999 | Loss: 0.1109 | Steps: 34 | Wins: 0 | Win Rate: 0.000 | Time: 2.7 seconds\n",
      "Epoch: 0000/14999 | Loss: 0.1204 | Steps: 35 | Wins: 0 | Win Rate: 0.000 | Time: 2.9 seconds\n",
      "Epoch: 0000/14999 | Loss: 0.1288 | Steps: 36 | Wins: 0 | Win Rate: 0.000 | Time: 3.0 seconds\n",
      "Epoch: 0000/14999 | Loss: 0.1368 | Steps: 37 | Wins: 0 | Win Rate: 0.000 | Time: 3.0 seconds\n",
      "Epoch: 0000/14999 | Loss: 0.1437 | Steps: 38 | Wins: 0 | Win Rate: 0.000 | Time: 3.1 seconds\n",
      "Epoch: 0000/14999 | Loss: 0.1509 | Steps: 39 | Wins: 0 | Win Rate: 0.000 | Time: 3.2 seconds\n",
      "Epoch: 0000/14999 | Loss: 0.1570 | Steps: 40 | Wins: 0 | Win Rate: 0.000 | Time: 3.2 seconds\n",
      "Epoch: 0000/14999 | Loss: 0.1626 | Steps: 41 | Wins: 0 | Win Rate: 0.000 | Time: 3.4 seconds\n",
      "Epoch: 0000/14999 | Loss: 0.1682 | Steps: 42 | Wins: 0 | Win Rate: 0.000 | Time: 3.5 seconds\n",
      "Epoch: 0000/14999 | Loss: 0.1746 | Steps: 43 | Wins: 0 | Win Rate: 0.000 | Time: 3.7 seconds\n",
      "Epoch: 0000/14999 | Loss: 0.1802 | Steps: 44 | Wins: 0 | Win Rate: 0.000 | Time: 3.7 seconds\n",
      "Epoch: 0000/14999 | Loss: 0.1860 | Steps: 45 | Wins: 0 | Win Rate: 0.000 | Time: 3.8 seconds\n",
      "Epoch: 0000/14999 | Loss: 0.1915 | Steps: 46 | Wins: 0 | Win Rate: 0.000 | Time: 3.8 seconds\n",
      "Epoch: 0000/14999 | Loss: 0.1963 | Steps: 47 | Wins: 0 | Win Rate: 0.000 | Time: 3.9 seconds\n",
      "Epoch: 0000/14999 | Loss: 0.2006 | Steps: 48 | Wins: 0 | Win Rate: 0.000 | Time: 4.2 seconds\n",
      "Epoch: 0000/14999 | Loss: 0.2046 | Steps: 49 | Wins: 0 | Win Rate: 0.000 | Time: 4.3 seconds\n",
      "Epoch: 0000/14999 | Loss: 0.2075 | Steps: 50 | Wins: 0 | Win Rate: 0.000 | Time: 4.3 seconds\n",
      "Epoch: 0000/14999 | Loss: 0.2099 | Steps: 51 | Wins: 0 | Win Rate: 0.000 | Time: 4.4 seconds\n",
      "Epoch: 0000/14999 | Loss: 0.2120 | Steps: 52 | Wins: 0 | Win Rate: 0.000 | Time: 4.5 seconds\n",
      "Epoch: 0000/14999 | Loss: 0.2141 | Steps: 53 | Wins: 0 | Win Rate: 0.000 | Time: 4.5 seconds\n",
      "Epoch: 0000/14999 | Loss: 0.2178 | Steps: 54 | Wins: 0 | Win Rate: 0.000 | Time: 4.6 seconds\n",
      "Epoch: 0000/14999 | Loss: 0.2208 | Steps: 55 | Wins: 0 | Win Rate: 0.000 | Time: 4.8 seconds\n",
      "Epoch: 0000/14999 | Loss: 0.2243 | Steps: 56 | Wins: 0 | Win Rate: 0.000 | Time: 4.9 seconds\n",
      "Epoch: 0000/14999 | Loss: 0.2274 | Steps: 57 | Wins: 0 | Win Rate: 0.000 | Time: 5.0 seconds\n",
      "Epoch: 0000/14999 | Loss: 0.2307 | Steps: 58 | Wins: 0 | Win Rate: 0.000 | Time: 5.0 seconds\n",
      "Epoch: 0000/14999 | Loss: 0.2340 | Steps: 59 | Wins: 0 | Win Rate: 0.000 | Time: 5.2 seconds\n",
      "Epoch: 0000/14999 | Loss: 0.2373 | Steps: 60 | Wins: 0 | Win Rate: 0.000 | Time: 5.5 seconds\n",
      "Epoch: 0000/14999 | Loss: 0.2401 | Steps: 61 | Wins: 0 | Win Rate: 0.000 | Time: 5.5 seconds\n",
      "Epoch: 0000/14999 | Loss: 0.2431 | Steps: 62 | Wins: 0 | Win Rate: 0.000 | Time: 5.6 seconds\n",
      "Epoch: 0000/14999 | Loss: 0.2452 | Steps: 63 | Wins: 0 | Win Rate: 0.000 | Time: 5.6 seconds\n",
      "Epoch: 0000/14999 | Loss: 0.2475 | Steps: 64 | Wins: 0 | Win Rate: 0.000 | Time: 6.0 seconds\n",
      "Epoch: 0000/14999 | Loss: 0.2507 | Steps: 65 | Wins: 0 | Win Rate: 0.000 | Time: 6.1 seconds\n",
      "Epoch: 0000/14999 | Loss: 0.2538 | Steps: 66 | Wins: 0 | Win Rate: 0.000 | Time: 6.1 seconds\n",
      "Epoch: 0000/14999 | Loss: 0.2558 | Steps: 67 | Wins: 0 | Win Rate: 0.000 | Time: 6.2 seconds\n",
      "Epoch: 0000/14999 | Loss: 0.2586 | Steps: 68 | Wins: 0 | Win Rate: 0.000 | Time: 6.5 seconds\n",
      "Epoch: 0000/14999 | Loss: 0.2617 | Steps: 69 | Wins: 0 | Win Rate: 0.000 | Time: 6.7 seconds\n",
      "Epoch: 0000/14999 | Loss: 0.2648 | Steps: 70 | Wins: 0 | Win Rate: 0.000 | Time: 6.7 seconds\n",
      "Epoch: 0000/14999 | Loss: 0.2673 | Steps: 71 | Wins: 0 | Win Rate: 0.000 | Time: 6.8 seconds\n",
      "Epoch: 0000/14999 | Loss: 0.2699 | Steps: 72 | Wins: 0 | Win Rate: 0.000 | Time: 6.8 seconds\n",
      "Epoch: 0000/14999 | Loss: 0.2720 | Steps: 73 | Wins: 0 | Win Rate: 0.000 | Time: 7.0 seconds\n",
      "Epoch: 0000/14999 | Loss: 0.2737 | Steps: 74 | Wins: 0 | Win Rate: 0.000 | Time: 7.2 seconds\n",
      "Epoch: 0000/14999 | Loss: 0.2761 | Steps: 75 | Wins: 0 | Win Rate: 0.000 | Time: 7.3 seconds\n",
      "Epoch: 0000/14999 | Loss: 0.2782 | Steps: 76 | Wins: 0 | Win Rate: 0.000 | Time: 7.3 seconds\n",
      "Epoch: 0000/14999 | Loss: 0.2810 | Steps: 77 | Wins: 0 | Win Rate: 0.000 | Time: 7.4 seconds\n",
      "Epoch: 0000/14999 | Loss: 0.2838 | Steps: 78 | Wins: 0 | Win Rate: 0.000 | Time: 7.4 seconds\n",
      "Epoch: 0000/14999 | Loss: 0.2862 | Steps: 79 | Wins: 0 | Win Rate: 0.000 | Time: 7.5 seconds\n",
      "Epoch: 0000/14999 | Loss: 0.2881 | Steps: 80 | Wins: 0 | Win Rate: 0.000 | Time: 7.8 seconds\n",
      "Epoch: 0000/14999 | Loss: 0.2911 | Steps: 81 | Wins: 0 | Win Rate: 0.000 | Time: 7.9 seconds\n",
      "Epoch: 0000/14999 | Loss: 0.2939 | Steps: 82 | Wins: 0 | Win Rate: 0.000 | Time: 7.9 seconds\n",
      "Epoch: 0000/14999 | Loss: 0.2964 | Steps: 83 | Wins: 0 | Win Rate: 0.000 | Time: 8.0 seconds\n",
      "Epoch: 0000/14999 | Loss: 0.2987 | Steps: 84 | Wins: 0 | Win Rate: 0.000 | Time: 8.3 seconds\n",
      "Epoch: 0000/14999 | Loss: 0.3014 | Steps: 85 | Wins: 0 | Win Rate: 0.000 | Time: 8.5 seconds\n",
      "Epoch: 0000/14999 | Loss: 0.3047 | Steps: 86 | Wins: 0 | Win Rate: 0.000 | Time: 8.6 seconds\n",
      "Epoch: 0000/14999 | Loss: 0.3068 | Steps: 87 | Wins: 0 | Win Rate: 0.000 | Time: 9.0 seconds\n",
      "Epoch: 0000/14999 | Loss: 0.3094 | Steps: 88 | Wins: 0 | Win Rate: 0.000 | Time: 9.1 seconds\n",
      "Epoch: 0000/14999 | Loss: 0.3121 | Steps: 89 | Wins: 0 | Win Rate: 0.000 | Time: 9.1 seconds\n",
      "Epoch: 0000/14999 | Loss: 0.3149 | Steps: 90 | Wins: 0 | Win Rate: 0.000 | Time: 9.1 seconds\n",
      "Epoch: 0000/14999 | Loss: 0.3170 | Steps: 91 | Wins: 0 | Win Rate: 0.000 | Time: 9.2 seconds\n",
      "Epoch: 0000/14999 | Loss: 0.3198 | Steps: 92 | Wins: 0 | Win Rate: 0.000 | Time: 9.6 seconds\n",
      "Epoch: 0000/14999 | Loss: 0.3217 | Steps: 93 | Wins: 0 | Win Rate: 0.000 | Time: 9.6 seconds\n",
      "Epoch: 0000/14999 | Loss: 0.3241 | Steps: 94 | Wins: 0 | Win Rate: 0.000 | Time: 9.7 seconds\n",
      "Epoch: 0000/14999 | Loss: 0.3274 | Steps: 95 | Wins: 0 | Win Rate: 0.000 | Time: 9.7 seconds\n",
      "Epoch: 0000/14999 | Loss: 0.3300 | Steps: 96 | Wins: 0 | Win Rate: 0.000 | Time: 9.8 seconds\n",
      "Epoch: 0000/14999 | Loss: 0.3318 | Steps: 97 | Wins: 0 | Win Rate: 0.000 | Time: 10.0 seconds\n",
      "Epoch: 0000/14999 | Loss: 0.3343 | Steps: 98 | Wins: 0 | Win Rate: 0.000 | Time: 10.2 seconds\n",
      "Epoch: 0000/14999 | Loss: 0.3360 | Steps: 99 | Wins: 0 | Win Rate: 0.000 | Time: 10.3 seconds\n",
      "Epoch: 0000/14999 | Loss: 0.3383 | Steps: 100 | Wins: 0 | Win Rate: 0.000 | Time: 10.3 seconds\n",
      "Epoch: 0000/14999 | Loss: 0.3405 | Steps: 101 | Wins: 0 | Win Rate: 0.000 | Time: 10.4 seconds\n",
      "Epoch: 0000/14999 | Loss: 0.3423 | Steps: 102 | Wins: 0 | Win Rate: 0.000 | Time: 10.6 seconds\n",
      "Epoch: 0000/14999 | Loss: 0.3436 | Steps: 103 | Wins: 0 | Win Rate: 0.000 | Time: 10.8 seconds\n",
      "Epoch: 0000/14999 | Loss: 0.3454 | Steps: 104 | Wins: 0 | Win Rate: 0.000 | Time: 10.9 seconds\n",
      "Epoch: 0000/14999 | Loss: 0.3482 | Steps: 105 | Wins: 0 | Win Rate: 0.000 | Time: 10.9 seconds\n",
      "Epoch: 0000/14999 | Loss: 0.3495 | Steps: 106 | Wins: 0 | Win Rate: 0.000 | Time: 11.0 seconds\n",
      "Epoch: 0000/14999 | Loss: 0.3513 | Steps: 107 | Wins: 0 | Win Rate: 0.000 | Time: 11.4 seconds\n",
      "Epoch: 0000/14999 | Loss: 0.3530 | Steps: 108 | Wins: 0 | Win Rate: 0.000 | Time: 11.4 seconds\n",
      "Epoch: 0000/14999 | Loss: 0.3538 | Steps: 109 | Wins: 0 | Win Rate: 0.000 | Time: 11.5 seconds\n",
      "Epoch: 0000/14999 | Loss: 0.3550 | Steps: 110 | Wins: 0 | Win Rate: 0.000 | Time: 11.5 seconds\n",
      "Epoch: 0000/14999 | Loss: 0.3568 | Steps: 111 | Wins: 0 | Win Rate: 0.000 | Time: 11.6 seconds\n",
      "Epoch: 0000/14999 | Loss: 0.3587 | Steps: 112 | Wins: 0 | Win Rate: 0.000 | Time: 11.8 seconds\n",
      "Epoch: 0000/14999 | Loss: 0.3607 | Steps: 113 | Wins: 0 | Win Rate: 0.000 | Time: 12.0 seconds\n",
      "Epoch: 0000/14999 | Loss: 0.3631 | Steps: 114 | Wins: 0 | Win Rate: 0.000 | Time: 12.0 seconds\n",
      "Epoch: 0000/14999 | Loss: 0.3647 | Steps: 115 | Wins: 0 | Win Rate: 0.000 | Time: 12.1 seconds\n",
      "Epoch: 0000/14999 | Loss: 0.3669 | Steps: 116 | Wins: 0 | Win Rate: 0.000 | Time: 12.1 seconds\n",
      "Epoch: 0000/14999 | Loss: 0.3686 | Steps: 117 | Wins: 0 | Win Rate: 0.000 | Time: 12.4 seconds\n",
      "Epoch: 0000/14999 | Loss: 0.3707 | Steps: 118 | Wins: 0 | Win Rate: 0.000 | Time: 12.6 seconds\n",
      "Epoch: 0000/14999 | Loss: 0.3727 | Steps: 119 | Wins: 0 | Win Rate: 0.000 | Time: 12.6 seconds\n",
      "Epoch: 0000/14999 | Loss: 0.3743 | Steps: 120 | Wins: 0 | Win Rate: 0.000 | Time: 12.7 seconds\n",
      "Epoch: 0000/14999 | Loss: 0.3761 | Steps: 121 | Wins: 0 | Win Rate: 0.000 | Time: 12.7 seconds\n",
      "Epoch: 0000/14999 | Loss: 0.3781 | Steps: 122 | Wins: 0 | Win Rate: 0.000 | Time: 12.8 seconds\n",
      "Epoch: 0000/14999 | Loss: 0.3791 | Steps: 123 | Wins: 0 | Win Rate: 0.000 | Time: 13.0 seconds\n",
      "Epoch: 0000/14999 | Loss: 0.3806 | Steps: 124 | Wins: 0 | Win Rate: 0.000 | Time: 13.2 seconds\n",
      "Epoch: 0000/14999 | Loss: 0.3819 | Steps: 125 | Wins: 0 | Win Rate: 0.000 | Time: 13.2 seconds\n",
      "Epoch: 0000/14999 | Loss: 0.3841 | Steps: 126 | Wins: 0 | Win Rate: 0.000 | Time: 13.3 seconds\n",
      "Epoch: 0000/14999 | Loss: 0.3864 | Steps: 127 | Wins: 0 | Win Rate: 0.000 | Time: 13.3 seconds\n",
      "Epoch: 0000/14999 | Loss: 0.3888 | Steps: 128 | Wins: 0 | Win Rate: 0.000 | Time: 13.4 seconds\n",
      "Epoch: 0000/14999 | Loss: 0.3907 | Steps: 129 | Wins: 0 | Win Rate: 0.000 | Time: 13.7 seconds\n",
      "Epoch: 0000/14999 | Loss: 0.3922 | Steps: 130 | Wins: 0 | Win Rate: 0.000 | Time: 13.8 seconds\n",
      "Epoch: 0000/14999 | Loss: 0.3943 | Steps: 131 | Wins: 0 | Win Rate: 0.000 | Time: 13.8 seconds\n",
      "Epoch: 0000/14999 | Loss: 0.3961 | Steps: 132 | Wins: 0 | Win Rate: 0.000 | Time: 13.9 seconds\n",
      "Epoch: 0000/14999 | Loss: 0.3981 | Steps: 133 | Wins: 0 | Win Rate: 0.000 | Time: 14.0 seconds\n",
      "Epoch: 0000/14999 | Loss: 0.3995 | Steps: 134 | Wins: 0 | Win Rate: 0.000 | Time: 14.1 seconds\n",
      "Epoch: 0000/14999 | Loss: 0.4006 | Steps: 135 | Wins: 0 | Win Rate: 0.000 | Time: 14.2 seconds\n",
      "Epoch: 0000/14999 | Loss: 0.4023 | Steps: 136 | Wins: 0 | Win Rate: 0.000 | Time: 14.4 seconds\n",
      "Epoch: 0000/14999 | Loss: 0.4041 | Steps: 137 | Wins: 0 | Win Rate: 0.000 | Time: 14.4 seconds\n",
      "Epoch: 0000/14999 | Loss: 0.4055 | Steps: 138 | Wins: 0 | Win Rate: 0.000 | Time: 14.5 seconds\n",
      "Epoch: 0000/14999 | Loss: 0.4074 | Steps: 139 | Wins: 0 | Win Rate: 0.000 | Time: 14.6 seconds\n",
      "Epoch: 0000/14999 | Loss: 0.4091 | Steps: 140 | Wins: 0 | Win Rate: 0.000 | Time: 14.6 seconds\n",
      "Epoch: 0000/14999 | Loss: 0.4112 | Steps: 141 | Wins: 0 | Win Rate: 0.000 | Time: 14.7 seconds\n",
      "Epoch: 0000/14999 | Loss: 0.4123 | Steps: 142 | Wins: 0 | Win Rate: 0.000 | Time: 14.8 seconds\n",
      "Epoch: 0000/14999 | Loss: 0.4140 | Steps: 143 | Wins: 0 | Win Rate: 0.000 | Time: 14.9 seconds\n",
      "Epoch: 0000/14999 | Loss: 0.4157 | Steps: 144 | Wins: 0 | Win Rate: 0.000 | Time: 15.0 seconds\n",
      "Epoch: 0000/14999 | Loss: 0.4177 | Steps: 145 | Wins: 0 | Win Rate: 0.000 | Time: 15.0 seconds\n",
      "Epoch: 0000/14999 | Loss: 0.4191 | Steps: 146 | Wins: 0 | Win Rate: 0.000 | Time: 15.1 seconds\n",
      "Epoch: 0000/14999 | Loss: 0.4204 | Steps: 147 | Wins: 0 | Win Rate: 0.000 | Time: 15.2 seconds\n",
      "Epoch: 0000/14999 | Loss: 0.4218 | Steps: 148 | Wins: 0 | Win Rate: 0.000 | Time: 15.3 seconds\n",
      "n_epoch: 0, max_mem: 512, data: 32, time: 15.3 seconds\n"
     ]
    },
    {
     "data": {
      "text/plain": [
       "15.279256"
      ]
     },
     "execution_count": 11,
     "metadata": {},
     "output_type": "execute_result"
    }
   ],
   "source": [
    "model = build_model(maze)\n",
    "qtrain(model, maze, epochs=1000, max_memory=8*maze.size, data_size=32)"
   ]
  },
  {
   "cell_type": "markdown",
   "metadata": {},
   "source": [
    "This cell will check to see if the model passes the completion check. Note: This could take several minutes."
   ]
  },
  {
   "cell_type": "code",
   "execution_count": 12,
   "metadata": {},
   "outputs": [
    {
     "data": {
      "text/plain": [
       "<matplotlib.image.AxesImage at 0x20aa7c8b688>"
      ]
     },
     "execution_count": 12,
     "metadata": {},
     "output_type": "execute_result"
    },
    {
     "data": {
      "image/png": "[encoded data removed]",
      "text/plain": [
       "<Figure size 432x288 with 1 Axes>"
      ]
     },
     "metadata": {
      "needs_background": "light"
     },
     "output_type": "display_data"
    }
   ],
   "source": [
    "completion_check(model, qmaze)\n",
    "show(qmaze)"
   ]
  },
  {
   "cell_type": "markdown",
   "metadata": {},
   "source": [
    "This cell will test your model for one game. It will start the pirate at the top-left corner and run play_game. The agent should find a path from the starting position to the target (treasure). The treasure is located in the bottom-right corner."
   ]
  },
  {
   "cell_type": "code",
   "execution_count": 13,
   "metadata": {},
   "outputs": [
    {
     "data": {
      "text/plain": [
       "<matplotlib.image.AxesImage at 0x20aa9a60888>"
      ]
     },
     "execution_count": 13,
     "metadata": {},
     "output_type": "execute_result"
    },
    {
     "data": {
      "image/png": "[encoded data removed]",
      "text/plain": [
       "<Figure size 432x288 with 1 Axes>"
      ]
     },
     "metadata": {
      "needs_background": "light"
     },
     "output_type": "display_data"
    }
   ],
   "source": [
    "pirate_start = (0, 0)\n",
    "play_game(model, qmaze, pirate_start)\n",
    "show(qmaze)"
   ]
  },
  {
   "cell_type": "markdown",
   "metadata": {},
   "source": [
    "## Save and Submit Your Work\n",
    "After you have finished creating the code for your notebook, save your work. Make sure that your notebook contains your name in the filename (e.g. Doe_Jane_ProjectTwo.ipynb). This will help your instructor access and grade your work easily. Download a copy of your IPYNB file and submit it to Brightspace. Refer to the Jupyter Notebook in Apporto Tutorial if you need help with these tasks."
   ]
  }
 ],
 "metadata": {
  "kernelspec": {
   "display_name": "Python 3",
   "language": "python",
   "name": "python3"
  },
  "language_info": {
   "codemirror_mode": {
    "name": "ipython",
    "version": 3
   },
   "file_extension": ".py",
   "mimetype": "text/x-python",
   "name": "python",
   "nbconvert_exporter": "python",
   "pygments_lexer": "ipython3",
   "version": "3.7.4"
  }
 },
 "nbformat": 4,
 "nbformat_minor": 2
}
